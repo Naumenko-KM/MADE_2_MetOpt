{
 "cells": [
  {
   "cell_type": "code",
   "execution_count": 2,
   "metadata": {},
   "outputs": [],
   "source": [
    "import numpy as np"
   ]
  },
  {
   "cell_type": "code",
   "execution_count": 16,
   "metadata": {},
   "outputs": [
    {
     "data": {
      "text/plain": [
       "0.6269280110429727"
      ]
     },
     "execution_count": 16,
     "metadata": {},
     "output_type": "execute_result"
    }
   ],
   "source": [
    "def get_counters(A):\n",
    "    counters = {'Ax': 0, 'ATx': 0, 'ATsA': 0}\n",
    "\n",
    "    def matvec_Ax(x):\n",
    "        counters['Ax'] += 1\n",
    "        return A.dot(x)\n",
    "\n",
    "    def matvec_ATx(x):\n",
    "        counters['ATx'] += 1\n",
    "        return A.T.dot(x)\n",
    "\n",
    "    def matmat_ATsA(s):\n",
    "        counters['ATsA'] += 1\n",
    "        return A.T.dot(A * s.reshape(-1, 1))\n",
    "\n",
    "    return (matvec_Ax, matvec_ATx, matmat_ATsA, counters)\n",
    "\n",
    "A = np.ones((2, 2))\n",
    "b = np.ones(2)\n",
    "x = np.ones(2)\n",
    "d = np.ones(2)\n",
    "reg_coef = 0.5\n",
    "(matvec_Ax, matvec_ATx, matmat_ATsA, counters) = get_counters(A)\n",
    "\n",
    "\n",
    "class LogRegL2Oracle:\n",
    "    \"\"\"\n",
    "    Oracle for logistic regression with l2 regularization:\n",
    "         func(x) = 1/m sum_i log(1 + exp(-b_i * a_i^T x))\n",
    "                 + regcoef / 2 ||x||_2^2.\n",
    "    Let A and b be parameters of the logistic regression (feature matrix\n",
    "    and labels vector respectively).\n",
    "    For user-friendly interface use create_log_reg_oracle()\n",
    "    Parameters\n",
    "    ----------\n",
    "        matvec_Ax : function\n",
    "            Computes matrix-vector product Ax, where x is a vector of size n.\n",
    "        matvec_ATx : function of x\n",
    "            Computes matrix-vector product A^Tx, where x is a vector of size m.\n",
    "        matmat_ATsA : function\n",
    "            Computes matrix-matrix-matrix product A^T * Diag(s) * A,\n",
    "    \"\"\"\n",
    "    def __init__(self, matvec_Ax, matvec_ATx, matmat_ATsA, b, regcoef):\n",
    "        self.matvec_Ax = matvec_Ax\n",
    "        self.matvec_ATx = matvec_ATx\n",
    "        self.matmat_ATsA = matmat_ATsA\n",
    "        self.b = b\n",
    "        self.regcoef = regcoef\n",
    "        self.m = b.shape[0]\n",
    "\n",
    "    def func(self, x):\n",
    "        exp = np.exp(-self.b * self.matvec_ATx(x))\n",
    "        res = np.mean(np.log(1 + exp)) \\\n",
    "            + self.regcoef / 2 * np.linalg.norm(x, 2) ** 2\n",
    "        return res\n",
    "\n",
    "    def grad(self, x):\n",
    "        exp = np.exp(-self.b * self.matvec_ATx(x))\n",
    "        # res = 1 / self.m * np.sum(exp * self.b.T @ )\n",
    "\n",
    "\n",
    "def create_log_reg_oracle(A, b, regcoef):\n",
    "    \"\"\"\n",
    "    Auxiliary function for creating logistic regression oracles.\n",
    "        `oracle_type` must be either 'usual' or 'optimized'\n",
    "    \"\"\"\n",
    "    def matvec_Ax(x):\n",
    "        return A @ x  # your code here\n",
    "\n",
    "    def matvec_ATx(x):\n",
    "        return A.T @ x  # your code here\n",
    "\n",
    "    def matmat_ATsA(s):\n",
    "        # your code here\n",
    "        return A.T @ s @ A\n",
    "\n",
    "    return LogRegL2Oracle(matvec_Ax, matvec_ATx, matmat_ATsA, b, regcoef)\n",
    "\n",
    "LogRegL2Oracle(matvec_Ax, matvec_ATx, matmat_ATsA, b, reg_coef).func(x)"
   ]
  },
  {
   "cell_type": "code",
   "execution_count": 11,
   "metadata": {},
   "outputs": [
    {
     "data": {
      "text/plain": [
       "0.8340347922295201"
      ]
     },
     "execution_count": 11,
     "metadata": {},
     "output_type": "execute_result"
    }
   ],
   "source": []
  },
  {
   "cell_type": "code",
   "execution_count": null,
   "metadata": {},
   "outputs": [],
   "source": []
  }
 ],
 "metadata": {
  "kernelspec": {
   "display_name": "ML",
   "language": "python",
   "name": "python3"
  },
  "language_info": {
   "codemirror_mode": {
    "name": "ipython",
    "version": 3
   },
   "file_extension": ".py",
   "mimetype": "text/x-python",
   "name": "python",
   "nbconvert_exporter": "python",
   "pygments_lexer": "ipython3",
   "version": "3.9.15"
  },
  "orig_nbformat": 4
 },
 "nbformat": 4,
 "nbformat_minor": 2
}
